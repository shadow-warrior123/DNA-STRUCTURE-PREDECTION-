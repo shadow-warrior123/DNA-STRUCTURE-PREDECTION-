{
  "nbformat": 4,
  "nbformat_minor": 0,
  "metadata": {
    "colab": {
      "provenance": []
    },
    "kernelspec": {
      "name": "python3",
      "display_name": "Python 3"
    },
    "language_info": {
      "name": "python"
    }
  },
  "cells": [
    {
      "cell_type": "code",
      "source": [
        "from google.colab import drive\n",
        "drive.mount('/content/drive')"
      ],
      "metadata": {
        "colab": {
          "base_uri": "https://localhost:8080/"
        },
        "id": "IT3GirHi_B4k",
        "outputId": "62707b96-2e10-490e-c7f9-8bd2abc30718"
      },
      "execution_count": 50,
      "outputs": [
        {
          "output_type": "stream",
          "name": "stdout",
          "text": [
            "Drive already mounted at /content/drive; to attempt to forcibly remount, call drive.mount(\"/content/drive\", force_remount=True).\n"
          ]
        }
      ]
    },
    {
      "cell_type": "code",
      "source": [
        "import os\n",
        "import time\n",
        "import pandas as pd\n",
        "from selenium import webdriver\n",
        "from selenium.webdriver.common.by import By\n",
        "from selenium.webdriver.chrome.options import Options\n",
        "from selenium.webdriver.support.ui import WebDriverWait\n",
        "from selenium.webdriver.support import expected_conditions as EC\n",
        "from selenium.common.exceptions import TimeoutException, UnexpectedAlertPresentException\n",
        "\n",
        "def setup_chrome_options(download_directory):\n",
        "    chrome_options = Options()\n",
        "    chrome_options.add_argument('--headless')\n",
        "    chrome_options.add_argument('--no-sandbox')\n",
        "    chrome_options.add_argument('--disable-dev-shm-usage')\n",
        "\n",
        "    prefs = {\n",
        "        \"download.default_directory\": download_directory,\n",
        "        \"download.prompt_for_download\": False,\n",
        "        \"download.directory_upgrade\": True,\n",
        "        \"safebrowsing.enabled\": True,\n",
        "        \"safebrowsing.disable_download_protection\": True\n",
        "    }\n",
        "    chrome_options.add_experimental_option(\"prefs\", prefs)\n",
        "\n",
        "    return chrome_options\n",
        "\n",
        "def initialize_webdriver(chrome_options):\n",
        "    return webdriver.Chrome(options=chrome_options)\n",
        "\n",
        "def read_sequences(file_path):\n",
        "    return pd.read_excel(file_path)\n",
        "\n",
        "def process_sequence(driver, sequence, dna_type, wait):\n",
        "    driver.get('http://www.scfbio-iitd.res.in/software/drugdesign/bdna.jsp')\n",
        "\n",
        "    # Remove spaces from the sequence\n",
        "    sequence = sequence.replace(\" \", \"\")\n",
        "\n",
        "    inbox_box = wait.until(EC.presence_of_element_located((By.XPATH, '//*[@id=\"main\"]/tbody/tr[2]/td/table[2]/tbody/tr/td/table/tbody/tr[1]/th/table/tbody/tr[2]/th/span/fieldset/div/form/p[1]/input[1]')))\n",
        "    inbox_box.send_keys(sequence)\n",
        "\n",
        "    if dna_type == 'B':\n",
        "        dna_check = wait.until(EC.element_to_be_clickable((By.XPATH, '//*[@id=\"main\"]/tbody/tr[2]/td/table[2]/tbody/tr/td/table/tbody/tr[1]/th/table/tbody/tr[2]/th/span/fieldset/div/form/p[2]/span/input[2]')))\n",
        "    else:  # A-DNA\n",
        "        dna_check = wait.until(EC.element_to_be_clickable((By.XPATH, '//*[@id=\"main\"]/tbody/tr[2]/td/table[2]/tbody/tr/td/table/tbody/tr[1]/th/table/tbody/tr[2]/th/span/fieldset/div/form/p[2]/span/input[1]')))\n",
        "    dna_check.click()\n",
        "\n",
        "    submit_element = wait.until(EC.element_to_be_clickable((By.XPATH, '//*[@id=\"main\"]/tbody/tr[2]/td/table[2]/tbody/tr/td/table/tbody/tr[1]/th/table/tbody/tr[2]/th/span/fieldset/div/form/p[3]/input[1]')))\n",
        "    submit_element.click()\n",
        "\n",
        "    try:\n",
        "        output_file = wait.until(EC.presence_of_element_located((By.PARTIAL_LINK_TEXT, \"outputfile\")))\n",
        "        output_file.click()\n",
        "        return True\n",
        "    except TimeoutException:\n",
        "        print(f\"Timeout waiting for output file link for sequence: {sequence}\")\n",
        "        return False\n",
        "\n",
        "def wait_for_download(download_directory):\n",
        "    time.sleep(10)  # Wait for the download to complete\n",
        "\n",
        "def rename_file(download_directory, sequence_no):\n",
        "    files = sorted(os.listdir(download_directory), key=lambda x: os.path.getmtime(os.path.join(download_directory, x)), reverse=True)\n",
        "    if files:\n",
        "        latest_file = os.path.join(download_directory, files[0])\n",
        "        new_file_name = os.path.join(download_directory, f\"{sequence_no}.pdb\")\n",
        "        os.rename(latest_file, new_file_name)\n",
        "\n",
        "def process_dna_type(driver, sequences_df, download_directory, dna_type):\n",
        "    wait = WebDriverWait(driver, 10)\n",
        "    for index, row in sequences_df.iterrows():\n",
        "        sequence_no = row['S.no']\n",
        "        sequence = row['Sequence']\n",
        "\n",
        "        try:\n",
        "            success = process_sequence(driver, sequence, dna_type, wait)\n",
        "            if success:\n",
        "                wait_for_download(download_directory)\n",
        "                rename_file(download_directory, f\"{dna_type}_{sequence_no}\")\n",
        "            else:\n",
        "                print(f\"Failed to process {dna_type}-DNA for sequence number {sequence_no}\")\n",
        "        except UnexpectedAlertPresentException as e:\n",
        "            print(f\"Alert encountered for {dna_type}-DNA, sequence number {sequence_no}: {e.alert_text}\")\n",
        "        except Exception as e:\n",
        "            print(f\"Error processing {dna_type}-DNA for sequence number {sequence_no}: {str(e)}\")\n",
        "\n",
        "def main():\n",
        "   # Set up paths\n",
        "    excel_file_path = \"/content/drive/MyDrive/weekend_project/random_sequences.xlsx\"  # Update this path for your Colab environment\n",
        "    a_dna_download_directory = \"/content/drive/MyDrive/weekend_project/pdb_folder/A_DNA\"  # Update this path for your Colab environment\n",
        "    b_dna_download_directory = \"/content/drive/MyDrive/weekend_project/pdb_folder/B_DNA\"  # Update this path for your Colab environment\n",
        "\n",
        "    # Ensure download directories exist\n",
        "    os.makedirs(a_dna_download_directory, exist_ok=True)\n",
        "    os.makedirs(b_dna_download_directory, exist_ok=True)\n",
        "\n",
        "    # Read sequences\n",
        "    sequences_df = read_sequences(excel_file_path)\n",
        "\n",
        "    # Process A-DNA\n",
        "    chrome_options_a = setup_chrome_options(a_dna_download_directory)\n",
        "    driver_a = initialize_webdriver(chrome_options_a)\n",
        "    process_dna_type(driver_a, sequences_df, a_dna_download_directory, 'A')\n",
        "    driver_a.quit()\n",
        "\n",
        "    # Process B-DNA\n",
        "    chrome_options_b = setup_chrome_options(b_dna_download_directory)\n",
        "    driver_b = initialize_webdriver(chrome_options_b)\n",
        "    process_dna_type(driver_b, sequences_df, b_dna_download_directory, 'B')\n",
        "    driver_b.quit()\n",
        "\n",
        "if __name__ == \"__main__\":\n",
        "    main()"
      ],
      "metadata": {
        "id": "WFGMX7JtAha5"
      },
      "execution_count": 54,
      "outputs": []
    }
  ]
}