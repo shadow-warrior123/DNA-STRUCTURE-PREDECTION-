{
  "nbformat": 4,
  "nbformat_minor": 0,
  "metadata": {
    "colab": {
      "provenance": []
    },
    "kernelspec": {
      "name": "python3",
      "display_name": "Python 3"
    },
    "language_info": {
      "name": "python"
    }
  },
  "cells": [
    {
      "cell_type": "code",
      "execution_count": 1,
      "metadata": {
        "id": "i-tCtysvuJNq"
      },
      "outputs": [],
      "source": [
        "import os\n",
        "import numpy as np\n",
        "import pandas as pd"
      ]
    },
    {
      "cell_type": "code",
      "source": [
        "from google.colab import drive\n",
        "drive.mount('/content/drive')"
      ],
      "metadata": {
        "colab": {
          "base_uri": "https://localhost:8080/"
        },
        "id": "B6NdjvPTuvBG",
        "outputId": "bad16f1d-f59c-4389-b634-1b777f1d27f3"
      },
      "execution_count": 2,
      "outputs": [
        {
          "output_type": "stream",
          "name": "stdout",
          "text": [
            "Mounted at /content/drive\n"
          ]
        }
      ]
    },
    {
      "cell_type": "code",
      "source": [
        "def process_pdb(pdb_content):\n",
        "    atom_data = []\n",
        "    chain_data = []\n",
        "    current_chain = []\n",
        "    chain_id = 1\n",
        "\n",
        "    for line in pdb_content:\n",
        "        if line.startswith(\"ATOM\"):\n",
        "            current_chain.append(line)\n",
        "        elif line.startswith(\"TER\") and current_chain:\n",
        "            chain_data.append((current_chain, chain_id))\n",
        "            current_chain = []\n",
        "            chain_id += 1\n",
        "\n",
        "    if current_chain:\n",
        "        chain_data.append((current_chain, chain_id))\n",
        "\n",
        "    for chain_atoms, cid in chain_data:\n",
        "        for atom in chain_atoms:\n",
        "            atom_info = {\n",
        "                'Atom': 'ATOM',\n",
        "                'Atom Number': atom[6:11].strip(),\n",
        "                'Atom Name': atom[12:16].strip(),\n",
        "                'Residue Name': atom[17:20].strip(),\n",
        "                'Chain ID': str(cid),\n",
        "                'Residue Sequence Number': int(atom[22:26].strip()),\n",
        "                'X': float(atom[30:38].strip()),\n",
        "                'Y': float(atom[38:46].strip()),\n",
        "                'Z': float(atom[46:54].strip()),\n",
        "                'Occupancy': float(atom[54:60].strip()),\n",
        "                'Temp Factor': float(atom[60:66].strip()),\n",
        "                'Atom Type': atom[76:].strip()\n",
        "            }\n",
        "            atom_data.append(atom_info)\n",
        "\n",
        "    return pd.DataFrame(atom_data)"
      ],
      "metadata": {
        "id": "0AkDEuIsu7IK"
      },
      "execution_count": 19,
      "outputs": []
    },
    {
      "cell_type": "code",
      "source": [
        "def process_pdb_files(input_folder, output_folder):\n",
        "  for filename in os.listdir(input_folder):\n",
        "    if filename.endswith('.pdb'):\n",
        "        with open(os.path.join(input_folder, filename), 'r') as file:\n",
        "            pdb_content = file.readlines()\n",
        "\n",
        "        df_pdb = process_pdb(pdb_content)\n",
        "        output_file_path = os.path.join(output_folder, filename.replace('.pdb', '.csv'))\n",
        "        df_pdb.to_csv(output_file_path, index=False)\n",
        "        print(f\"Processed and saved: {output_file_path}\")\n",
        "  print('All files processed.')"
      ],
      "metadata": {
        "id": "axICBa1WxbUS"
      },
      "execution_count": 22,
      "outputs": []
    },
    {
      "cell_type": "code",
      "source": [
        "input_folder = '/content/drive/MyDrive/weekend_project/pdb_folder/A_DNA'\n",
        "output_folder = '/content/drive/MyDrive/weekend_project/csv_folder/A -DNA '\n",
        "process_pdb_files(input_folder, output_folder)"
      ],
      "metadata": {
        "colab": {
          "base_uri": "https://localhost:8080/"
        },
        "id": "FPNke0oFyHlV",
        "outputId": "6ee1c5d6-2f34-4633-c566-6c56c2a43377"
      },
      "execution_count": 26,
      "outputs": [
        {
          "output_type": "stream",
          "name": "stdout",
          "text": [
            "Processed and saved: /content/drive/MyDrive/weekend_project/csv_folder/A -DNA /A_0.csv\n",
            "Processed and saved: /content/drive/MyDrive/weekend_project/csv_folder/A -DNA /A_1.csv\n",
            "Processed and saved: /content/drive/MyDrive/weekend_project/csv_folder/A -DNA /A_2.csv\n",
            "Processed and saved: /content/drive/MyDrive/weekend_project/csv_folder/A -DNA /A_3.csv\n",
            "Processed and saved: /content/drive/MyDrive/weekend_project/csv_folder/A -DNA /A_4.csv\n",
            "Processed and saved: /content/drive/MyDrive/weekend_project/csv_folder/A -DNA /A_5.csv\n",
            "Processed and saved: /content/drive/MyDrive/weekend_project/csv_folder/A -DNA /A_6.csv\n",
            "Processed and saved: /content/drive/MyDrive/weekend_project/csv_folder/A -DNA /A_7.csv\n",
            "Processed and saved: /content/drive/MyDrive/weekend_project/csv_folder/A -DNA /A_8.csv\n",
            "Processed and saved: /content/drive/MyDrive/weekend_project/csv_folder/A -DNA /A_9.csv\n",
            "All files processed.\n"
          ]
        }
      ]
    }
  ]
}