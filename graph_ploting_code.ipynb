{
  "nbformat": 4,
  "nbformat_minor": 0,
  "metadata": {
    "colab": {
      "provenance": []
    },
    "kernelspec": {
      "name": "python3",
      "display_name": "Python 3"
    },
    "language_info": {
      "name": "python"
    }
  },
  "cells": [
    {
      "cell_type": "code",
      "execution_count": 34,
      "metadata": {
        "id": "y6JTgLfJPpQB"
      },
      "outputs": [],
      "source": [
        "# Importing required libraries\n",
        "import os\n",
        "import logging\n",
        "import pandas as pd\n",
        "import numpy as np\n",
        "import networkx as nx\n",
        "import matplotlib.pyplot as plt\n",
        "import seaborn as sns\n",
        "from mpl_toolkits.mplot3d import Axes3D  # For 3D plotting\n",
        "import plotly.graph_objects as go\n",
        "import re"
      ]
    },
    {
      "cell_type": "code",
      "source": [
        "from google.colab import drive\n",
        "\n",
        "# Mount Google Drive (for Colab)\n",
        "drive.mount('/content/drive')"
      ],
      "metadata": {
        "colab": {
          "base_uri": "https://localhost:8080/"
        },
        "id": "RAg-EbwFPqr-",
        "outputId": "fa83f850-e481-4581-a836-01b99a020ed2"
      },
      "execution_count": 35,
      "outputs": [
        {
          "output_type": "stream",
          "name": "stdout",
          "text": [
            "Drive already mounted at /content/drive; to attempt to forcibly remount, call drive.mount(\"/content/drive\", force_remount=True).\n"
          ]
        }
      ]
    },
    {
      "cell_type": "code",
      "source": [
        "# Update these paths to match your Google Drive directories\n",
        "INPUT_FOLDER = '/content/drive/MyDrive/weekend_project/Interaction_Folder/B_DNA '    # Input folder containing interaction CSV files\n",
        "OUTPUT_FOLDER = '/content/drive/MyDrive/weekend_project/graph/B-DNA'    # Output folder to save graphs and plots\n",
        "\n",
        "# Create Output Folder if it doesn't exist\n",
        "if not os.path.exists(OUTPUT_FOLDER):\n",
        "    os.makedirs(OUTPUT_FOLDER)\n",
        "    logging.info(f\"Created output folder at {OUTPUT_FOLDER}.\")\n",
        "else:\n",
        "    logging.info(f\"Output folder already exists at {OUTPUT_FOLDER}.\")\n"
      ],
      "metadata": {
        "id": "4kIaqFwiPtds"
      },
      "execution_count": 36,
      "outputs": []
    },
    {
      "cell_type": "code",
      "source": [
        "# Function to extract numeric residue number from identifier\n",
        "def get_numeric_residue_number(residue_identifier):\n",
        "    if isinstance(residue_identifier, int):\n",
        "        return residue_identifier\n",
        "    elif isinstance(residue_identifier, str):\n",
        "        match = re.search(r'\\d+', residue_identifier)\n",
        "        if match:\n",
        "            return int(match.group())\n",
        "        else:\n",
        "            return None\n",
        "    else:\n",
        "        return None"
      ],
      "metadata": {
        "id": "2696AQknP8Hx"
      },
      "execution_count": 37,
      "outputs": []
    },
    {
      "cell_type": "code",
      "source": [
        "# Function to process interaction file and construct graph\n",
        "def process_interaction_file(file_path):\n",
        "    logging.info(f\"Processing interaction file: {file_path}\")\n",
        "\n",
        "    try:\n",
        "        interaction_df = pd.read_csv(file_path)\n",
        "        logging.info(f\"Loaded interaction data with {len(interaction_df)} interactions.\")\n",
        "    except Exception as e:\n",
        "        logging.error(f\"Error loading interaction data: {e}\")\n",
        "        return None, None\n",
        "\n",
        "    G = nx.Graph()\n",
        "    for idx, row in interaction_df.iterrows():\n",
        "        residue_i = str(row['Residue_Number_1'])\n",
        "        residue_j = str(row['Residue_Number_2'])\n",
        "        interaction_strength = row['Interaction_Strength']\n",
        "        G.add_edge(residue_i, residue_j, weight=interaction_strength)\n",
        "\n",
        "    logging.info(f\"Constructed DSG with {G.number_of_nodes()} nodes and {G.number_of_edges()} edges.\")\n",
        "\n",
        "    residue_info = {}\n",
        "    for node in G.nodes():\n",
        "        residue_number = get_numeric_residue_number(node)\n",
        "        if residue_number is not None:\n",
        "            residue_info[node] = {'Residue Sequence Number': residue_number}\n",
        "        else:\n",
        "            residue_info[node] = {'Residue Sequence Number': None}\n",
        "\n",
        "    return G, residue_info\n"
      ],
      "metadata": {
        "id": "HtR5-V3OQEZr"
      },
      "execution_count": 38,
      "outputs": []
    },
    {
      "cell_type": "code",
      "source": [
        "# Function to analyze graph and return analysis DataFrame\n",
        "def analyze_graph(G):\n",
        "    Imin_values = np.arange(0, 6.5, 0.5)\n",
        "    k_values = range(1, 10)\n",
        "    data_records = []\n",
        "\n",
        "    for Imin in Imin_values:\n",
        "        G_filtered = nx.Graph()\n",
        "        for u, v, d in G.edges(data=True):\n",
        "            if d['weight'] > Imin:\n",
        "                G_filtered.add_edge(u, v, weight=d['weight'])\n",
        "        degrees = dict(G_filtered.degree())\n",
        "\n",
        "        for k in k_values:\n",
        "            hubs = [node for node, degree in degrees.items() if degree > k]\n",
        "            H = len(hubs)\n",
        "            data_records.append({'Imin': Imin, 'k': k, 'H': H})\n",
        "\n",
        "    df_analysis = pd.DataFrame(data_records)\n",
        "    return df_analysis\n"
      ],
      "metadata": {
        "id": "Q93dOt4GQF9W"
      },
      "execution_count": 39,
      "outputs": []
    },
    {
      "cell_type": "code",
      "source": [
        "# Function to generate static 3D line plot for a specific k value\n",
        "def generate_3d_plot(df_analysis, output_folder, fixed_k):\n",
        "    fig = plt.figure(figsize=(10, 8))\n",
        "    ax = fig.add_subplot(111, projection='3d')\n",
        "\n",
        "    sequence_names = df_analysis['sequence'].unique()\n",
        "    colors = plt.cm.get_cmap('tab10', len(sequence_names))\n",
        "\n",
        "    for i, sequence in enumerate(sequence_names):\n",
        "        df_sequence = df_analysis[df_analysis['sequence'] == sequence]\n",
        "        df_fixed_k = df_sequence[df_sequence['k'] == fixed_k]\n",
        "        ax.plot(df_fixed_k['Imin'], df_fixed_k['H'], df_fixed_k['k'],\n",
        "                label=f'{sequence} (k={fixed_k})', color=colors(i))\n",
        "\n",
        "    ax.set_xlabel('Interaction Strength (Imin)')\n",
        "    ax.set_ylabel('Number of Hubs (H)')\n",
        "    ax.set_zlabel('k')\n",
        "    ax.set_title(f'3D Line Plot for k = {fixed_k}')\n",
        "    ax.legend()\n",
        "    plt.tight_layout()\n",
        "\n",
        "    plot_path = os.path.join(output_folder, f'3D_line_plot_k_{fixed_k}.png')\n",
        "    plt.savefig(plot_path)\n",
        "    plt.close()\n",
        "    logging.info(f\"Saved 3D line plot for k = {fixed_k} to {plot_path}\")\n",
        "\n"
      ],
      "metadata": {
        "id": "-I-NSE9eQLUd"
      },
      "execution_count": 40,
      "outputs": []
    },
    {
      "cell_type": "code",
      "source": [
        "# Function to generate interactive 3D line plot for a specific k value\n",
        "def generate_3d_plot_interactive(df_analysis, output_folder, fixed_k):\n",
        "    traces = []\n",
        "    sequence_names = df_analysis['sequence'].unique()\n",
        "    colors = px.colors.qualitative.Plotly\n",
        "\n",
        "    for i, sequence in enumerate(sequence_names):\n",
        "        df_sequence = df_analysis[df_analysis['sequence'] == sequence]\n",
        "        df_filtered = df_sequence[df_sequence['k'] == fixed_k]\n",
        "        trace = go.Scatter3d(\n",
        "            x=df_filtered['Imin'],\n",
        "            y=[fixed_k] * len(df_filtered),\n",
        "            z=df_filtered['H'],\n",
        "            mode='lines',\n",
        "            name=f'{sequence} (k={fixed_k})',\n",
        "            line=dict(color=colors[i % len(colors)], width=3)\n",
        "        )\n",
        "        traces.append(trace)\n",
        "\n",
        "    layout = go.Layout(\n",
        "        title=f'Interactive 3D Line Plot for k = {fixed_k}',\n",
        "        scene=dict(\n",
        "            xaxis=dict(title='Interaction Strength (Imin)'),\n",
        "            yaxis=dict(title='Hub Degree Cutoff (k)'),\n",
        "            zaxis=dict(title='Number of Hubs (H)'),\n",
        "        )\n",
        "    )\n",
        "\n",
        "    fig = go.Figure(data=traces, layout=layout)\n",
        "    plot_path = os.path.join(output_folder, f'3D_plot_line_interactive_k_{fixed_k}.html')\n",
        "    fig.write_html(plot_path)\n",
        "    logging.info(f\"Saved interactive 3D line plot for k = {fixed_k} to {plot_path}\")\n"
      ],
      "metadata": {
        "id": "TMfIC2BJQQ-5"
      },
      "execution_count": 41,
      "outputs": []
    },
    {
      "cell_type": "code",
      "source": [
        "# Function to generate combined 2D plot for k values [2, 4, 5, 6]\n",
        "def generate_2d_plot(df_analysis, output_folder, k_values=[2, 4, 5, 6]):\n",
        "    sequence_names = df_analysis['sequence'].unique()\n",
        "    colors = plt.cm.get_cmap('tab10', len(sequence_names))\n",
        "\n",
        "    for fixed_k in k_values:\n",
        "        plt.figure(figsize=(8, 6))\n",
        "        for i, sequence in enumerate(sequence_names):\n",
        "            df_sequence = df_analysis[(df_analysis['sequence'] == sequence) & (df_analysis['k'] == fixed_k)]\n",
        "            sns.lineplot(x='Imin', y='H', data=df_sequence, marker='o', label=sequence, color=colors(i))\n",
        "\n",
        "        plt.xlabel('Interaction Strength (Imin)')\n",
        "        plt.ylabel('Number of Hubs (H)')\n",
        "        plt.title(f'H vs Imin for k = {fixed_k} (All Files)')\n",
        "        plt.grid(True)\n",
        "        plt.legend()\n",
        "        plt.tight_layout()\n",
        "        plot_path = os.path.join(output_folder, f'H_vs_Imin_k_{fixed_k}_combined.png')\n",
        "        plt.savefig(plot_path)\n",
        "        plt.close()\n",
        "        logging.info(f\"Saved combined 2D plot for k={fixed_k} to {plot_path}\")\n"
      ],
      "metadata": {
        "id": "Td379xwrQbPZ"
      },
      "execution_count": 42,
      "outputs": []
    },
    {
      "cell_type": "code",
      "source": [
        "# Function to visualize DNA structure with spring layout for each file\n",
        "def visualize_dna_structure_with_spring_layout(interaction_df, output_folder, sequence_name):\n",
        "    G = nx.Graph()\n",
        "    for _, row in interaction_df.iterrows():\n",
        "        G.add_edge(row['Residue_Number_1'], row['Residue_Number_2'], weight=row['Interaction_Strength'])\n",
        "\n",
        "    pos = nx.spring_layout(G, weight='weight')\n",
        "\n",
        "    edge_x = []\n",
        "    edge_y = []\n",
        "    for edge in G.edges():\n",
        "        x0, y0 = pos[edge[0]]\n",
        "        x1, y1 = pos[edge[1]]\n",
        "        edge_x.extend([x0, x1, None])\n",
        "        edge_y.extend([y0, y1, None])\n",
        "\n",
        "    node_x = [pos[node][0] for node in G.nodes()]\n",
        "    node_y = [pos[node][1] for node in G.nodes()]\n",
        "\n",
        "    edge_trace = go.Scatter(x=edge_x, y=edge_y, mode='lines', line=dict(width=0.5, color='#888'), hoverinfo='none')\n",
        "    node_trace = go.Scatter(x=node_x, y=node_y, mode='markers',\n",
        "                            marker=dict(showscale=True, colorscale='YlGnBu', size=10, color=list(dict(G.degree).values()),\n",
        "                                        colorbar=dict(thickness=15, title='Node Connections', xanchor='left', titleside='right')))\n",
        "\n",
        "    fig = go.Figure(data=[edge_trace, node_trace], layout=go.Layout(title=f'Interactive DNA Structure for {sequence_name}',\n",
        "                                                                    showlegend=False, hovermode='closest',\n",
        "                                                                    margin=dict(b=20, l=5, r=5, t=40),\n",
        "                                                                    xaxis=dict(showgrid=False, zeroline=False),\n",
        "                                                                    yaxis=dict(showgrid=False, zeroline=False)))\n",
        "\n",
        "    plot_path = os.path.join(output_folder, f'dna_structure_spring_layout_{sequence_name}.html')\n",
        "    fig.write_html(plot_path)\n",
        "    logging.info(f\"Saved DNA structure plot for {sequence_name} to {plot_path}\")\n"
      ],
      "metadata": {
        "id": "jvQ0zHM4Q0H6"
      },
      "execution_count": 43,
      "outputs": []
    },
    {
      "cell_type": "code",
      "source": [
        "# Main function to process all files together and generate combined plots\n",
        "def main():\n",
        "    try:\n",
        "        interaction_files = [file for file in os.listdir(INPUT_FOLDER) if file.endswith('.csv')]\n",
        "    except Exception as e:\n",
        "        logging.error(f\"Error accessing input folder {INPUT_FOLDER}: {e}\")\n",
        "        return\n",
        "\n",
        "    if not interaction_files:\n",
        "        logging.warning(f\"No interaction CSV files found in the input folder: {INPUT_FOLDER}\")\n",
        "        return\n",
        "\n",
        "    logging.info(f\"Found {len(interaction_files)} interaction file(s) in the input folder.\")\n",
        "\n",
        "    combined_analysis = pd.DataFrame()\n",
        "    all_interaction_dfs = []\n",
        "\n",
        "    for interaction_file in interaction_files:\n",
        "        input_file_path = os.path.join(INPUT_FOLDER, interaction_file)\n",
        "        sequence_name = os.path.splitext(interaction_file)[0].replace('_interactions', '')\n",
        "\n",
        "        G, residue_info = process_interaction_file(input_file_path)\n",
        "        if G is None or residue_info is None:\n",
        "            continue\n",
        "\n",
        "        df_analysis = analyze_graph(G)\n",
        "        df_analysis['sequence'] = sequence_name\n",
        "        combined_analysis = pd.concat([combined_analysis, df_analysis], ignore_index=True)\n",
        "\n",
        "        interaction_df = pd.read_csv(input_file_path)\n",
        "        interaction_df['sequence'] = sequence_name\n",
        "        all_interaction_dfs.append((interaction_df, sequence_name))\n",
        "\n",
        "    # Generate 3D plots for fixed k values\n",
        "    for fixed_k in [3, 4, 5, 6]:\n",
        "        generate_3d_plot(combined_analysis, OUTPUT_FOLDER, fixed_k)\n",
        "        generate_3d_plot_interactive(combined_analysis, OUTPUT_FOLDER, fixed_k)\n",
        "\n",
        "    # Generate 2D plots for k values [2, 4, 5, 6]\n",
        "    generate_2d_plot(combined_analysis, OUTPUT_FOLDER)\n",
        "\n",
        "    # Visualize DNA structure for each input file separately\n",
        "    for interaction_df, sequence_name in all_interaction_dfs:\n",
        "        visualize_dna_structure_with_spring_layout(interaction_df, OUTPUT_FOLDER, sequence_name)\n",
        "\n",
        "    logging.info(\"All files have been processed and combined plots generated.\")\n",
        "\n",
        "if __name__ == \"__main__\":\n",
        "    main()"
      ],
      "metadata": {
        "colab": {
          "base_uri": "https://localhost:8080/"
        },
        "id": "E7FX3OhVQ5Zh",
        "outputId": "e565de0f-8ef2-4b9c-c9e6-8bc34f8940bd"
      },
      "execution_count": 45,
      "outputs": [
        {
          "output_type": "stream",
          "name": "stderr",
          "text": [
            "<ipython-input-40-7f7f23b1f610>:7: MatplotlibDeprecationWarning:\n",
            "\n",
            "The get_cmap function was deprecated in Matplotlib 3.7 and will be removed two minor releases later. Use ``matplotlib.colormaps[name]`` or ``matplotlib.colormaps.get_cmap(obj)`` instead.\n",
            "\n",
            "<ipython-input-42-204a2b549f17>:4: MatplotlibDeprecationWarning:\n",
            "\n",
            "The get_cmap function was deprecated in Matplotlib 3.7 and will be removed two minor releases later. Use ``matplotlib.colormaps[name]`` or ``matplotlib.colormaps.get_cmap(obj)`` instead.\n",
            "\n"
          ]
        }
      ]
    }
  ]
}