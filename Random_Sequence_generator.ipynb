{
  "nbformat": 4,
  "nbformat_minor": 0,
  "metadata": {
    "colab": {
      "provenance": []
    },
    "kernelspec": {
      "name": "python3",
      "display_name": "Python 3"
    },
    "language_info": {
      "name": "python"
    }
  },
  "cells": [
    {
      "cell_type": "markdown",
      "source": [
        "IMPORTING LIBRARIES"
      ],
      "metadata": {
        "id": "cIADUcf9q9Uv"
      }
    },
    {
      "cell_type": "code",
      "execution_count": 31,
      "metadata": {
        "id": "MCioHmkYirS9"
      },
      "outputs": [],
      "source": [
        "import numpy as np\n",
        "import pandas as pd\n",
        "import os"
      ]
    },
    {
      "cell_type": "markdown",
      "source": [
        "Mounting Drive"
      ],
      "metadata": {
        "id": "1JouoRhZrLqc"
      }
    },
    {
      "cell_type": "code",
      "source": [
        "from google.colab import drive\n",
        "drive.mount('/content/drive')"
      ],
      "metadata": {
        "colab": {
          "base_uri": "https://localhost:8080/"
        },
        "id": "aMVhjpxYi2J5",
        "outputId": "c63abe4c-d164-4a46-e054-ec577dac016b"
      },
      "execution_count": 32,
      "outputs": [
        {
          "output_type": "stream",
          "name": "stdout",
          "text": [
            "Drive already mounted at /content/drive; to attempt to forcibly remount, call drive.mount(\"/content/drive\", force_remount=True).\n"
          ]
        }
      ]
    },
    {
      "cell_type": "markdown",
      "source": [
        "GENERATION OF SEQUENCE - LENGTH AND NUMBER OF SEQUENCE IS GIVEN"
      ],
      "metadata": {
        "id": "b2mzlzt8rUFi"
      }
    },
    {
      "cell_type": "code",
      "source": [
        "# Production of random sequence of length (n) and no of sequence (n)\n",
        "def sequence_generation(length, number):\n",
        "  Bases = ['A','C','T','G']\n",
        "  sequence = np.random.choice(Bases, size = (number, length))\n",
        "  return sequence"
      ],
      "metadata": {
        "id": "tRaM5pmtjBpw"
      },
      "execution_count": 39,
      "outputs": []
    },
    {
      "cell_type": "markdown",
      "source": [
        "Structure DATAFRAME with Headers"
      ],
      "metadata": {
        "id": "b54nnujvuG_Q"
      }
    },
    {
      "cell_type": "code",
      "source": [
        "df_0 = pd.DataFrame(sequence_generation(12,10))\n",
        "def structure_df(df):\n",
        "  df.index.name = 'S.no'\n",
        "  df['Sequence'] = [' '.join(row.values.astype(str)) for _, row in df.iterrows()]\n",
        "  df = df[['Sequence']]\n",
        "  return df\n",
        "\n",
        "df_1 = structure_df(df_0)"
      ],
      "metadata": {
        "id": "QfePnATdkguF"
      },
      "execution_count": 40,
      "outputs": []
    },
    {
      "cell_type": "markdown",
      "source": [
        "Save into Folder"
      ],
      "metadata": {
        "id": "1x4phrk_uXiL"
      }
    },
    {
      "source": [
        "def save_df_to_excel(df, output_folder, filename):\n",
        "      import os  # Add this line to import the os module\n",
        "      try:\n",
        "        os.makedirs(output_folder, exist_ok=True)\n",
        "        filepath = os.path.join(output_folder, filename)\n",
        "        df.to_excel(filepath, index=True)\n",
        "        print(f\"DataFrame saved successfully to: {filepath}\")\n",
        "      except Exception as e:\n",
        "        print(f\"Error saving DataFrame to Excel: {e}\")"
      ],
      "cell_type": "code",
      "metadata": {
        "id": "6aMsCI34qCuU"
      },
      "execution_count": 41,
      "outputs": []
    },
    {
      "cell_type": "markdown",
      "source": [
        "Testing all function and making sample file"
      ],
      "metadata": {
        "id": "RJuxS2XqulqC"
      }
    },
    {
      "cell_type": "code",
      "source": [
        "# Example usage: will change to function afterward while intergarating with backend\n",
        "df_0 = pd.DataFrame(sequence_generation(12,10))\n",
        "df_1 = structure_df(df_0)\n",
        "output_folder = '/content/drive/MyDrive/weekend_project'  # Replace with your desired folder\n",
        "filename = 'random_sequences.xlsx'\n",
        "save_df_to_excel(df_1, output_folder, filename)"
      ],
      "metadata": {
        "colab": {
          "base_uri": "https://localhost:8080/"
        },
        "id": "bb1WnddWlMsL",
        "outputId": "d392c815-8e74-4fd4-d5b3-a9562ac5c528"
      },
      "execution_count": 44,
      "outputs": [
        {
          "output_type": "stream",
          "name": "stdout",
          "text": [
            "DataFrame saved successfully to: /content/drive/MyDrive/weekend_project/random_sequences.xlsx\n"
          ]
        }
      ]
    }
  ]
}